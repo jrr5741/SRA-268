{
  "nbformat": 4,
  "nbformat_minor": 0,
  "metadata": {
    "colab": {
      "name": "SRA 268 Lab 1",
      "provenance": [],
      "authorship_tag": "ABX9TyM0UbfUGmzjnfqor8BZnPVg",
      "include_colab_link": true
    },
    "kernelspec": {
      "name": "python3",
      "display_name": "Python 3"
    }
  },
  "cells": [
    {
      "cell_type": "markdown",
      "metadata": {
        "id": "view-in-github",
        "colab_type": "text"
      },
      "source": [
        "<a href=\"https://colab.research.google.com/github/jrr5741/SRA-268/blob/master/SRA_268_Lab_1.ipynb\" target=\"_parent\"><img src=\"https://colab.research.google.com/assets/colab-badge.svg\" alt=\"Open In Colab\"/></a>"
      ]
    },
    {
      "cell_type": "markdown",
      "metadata": {
        "id": "H0e7upSDghdW",
        "colab_type": "text"
      },
      "source": [
        "#Maximum and Minimum Temperatures in State College 2019"
      ]
    },
    {
      "cell_type": "markdown",
      "metadata": {
        "id": "6NRwKe9ThYD3",
        "colab_type": "text"
      },
      "source": [
        "#Outline\n",
        "This graph provides an analysis of the maximum and minimum temperatures in the State College area over the span of the past year. In this analysis, I hope to compare the differences in these temperatures in order to establish a more comprehensive understanding of temperature fluctuations, as well as note common trends in the area. "
      ]
    },
    {
      "cell_type": "markdown",
      "metadata": {
        "id": "zmuKGf-pnJGn",
        "colab_type": "text"
      },
      "source": [
        "#Sketch\n",
        "![graph](https://raw.githubusercontent.com/jrr5741/SRA-268/master/images/graph%20for%20sra%20268%20lab%201.jpg)\n"
      ]
    },
    {
      "cell_type": "markdown",
      "metadata": {
        "id": "I3gP8WnxoZG3",
        "colab_type": "text"
      },
      "source": [
        "#Conclusion\n",
        "After analysis, the trend in minimum and maximum temperatures in State College for 2019 proved to be quite different. There was more of a normal peak when looking at average maximum temperatures whereas the minimum temperatures had a few constant months where the lowest temperature stayed the same if not very close in range. Overall, maximum temperatures fluctuated the most last year and lower temperatures stayed rather consistent."
      ]
    }
  ]
}