{
  "nbformat": 4,
  "nbformat_minor": 0,
  "metadata": {
    "colab": {
      "name": "Untitled0.ipynb",
      "provenance": [],
      "authorship_tag": "ABX9TyM9Ji0TO6njELFAsM9g24nB",
      "include_colab_link": true
    },
    "kernelspec": {
      "name": "python3",
      "display_name": "Python 3"
    }
  },
  "cells": [
    {
      "cell_type": "markdown",
      "metadata": {
        "id": "view-in-github",
        "colab_type": "text"
      },
      "source": [
        "<a href=\"https://colab.research.google.com/github/jrr5741/SRA-268/blob/master/Untitled0.ipynb\" target=\"_parent\"><img src=\"https://colab.research.google.com/assets/colab-badge.svg\" alt=\"Open In Colab\"/></a>"
      ]
    },
    {
      "cell_type": "markdown",
      "metadata": {
        "id": "5QQudhr6Dh0_",
        "colab_type": "text"
      },
      "source": [
        "#title\n"
      ]
    },
    {
      "cell_type": "markdown",
      "metadata": {
        "id": "_sMdh4fmDoTb",
        "colab_type": "text"
      },
      "source": [
        "#outline\n",
        "sdlkjsdklfjdsklfj 50 words"
      ]
    },
    {
      "cell_type": "markdown",
      "metadata": {
        "id": "1abMiwKhE-NT",
        "colab_type": "text"
      },
      "source": [
        "#sketch\n",
        "![dog](https://raw.githubusercontent.com/jrr5741/SRA-268/master/images/dog.jpg)"
      ]
    }
  ]
}